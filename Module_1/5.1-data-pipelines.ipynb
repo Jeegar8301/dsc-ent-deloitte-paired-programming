{
 "cells": [
  {
   "cell_type": "markdown",
   "id": "6d6b5aef",
   "metadata": {},
   "source": [
    "### Objectives\n",
    "- To create a mock pipeline based on the business model that students choose\n",
    "\n",
    "### Introduction\n",
    "\n",
    "Based on the previous readings, we will simulate how we can best determine\n",
    "- The state of the current system (legacy)\n",
    "- Whether we should migrate the system to cloud\n",
    "- (Optional) Designing the architecture of the cloud system\n"
   ]
  },
  {
   "cell_type": "markdown",
   "id": "1841ccbb",
   "metadata": {},
   "source": [
    "### Problem Statement\n",
    "Suppose you're a decision maker in the engineering team at an eCommerce company which currently generates millions of dollars in net revenue. You have a legacy system that sits on company's data centers in remote locations, away from the headquarter where your office is. The engineering team and the data analytics team have made the decision that they would like to build a search engine, recommendation engine, and few other engines that require heavy machine learning models to increase the revenue for the company. As a decision maker, you need to assess the current system, and the engineering requirement for the future fiscal years. So you decide to answer some questions and prepare answers for the next leadership meeting.\n",
    "\n",
    "\n",
    "Currently, the capability of the data center is limited based on the square footage of the location, as well as the hardware that can be stored in the square footage. The data center resource is not only shared in the engineering team, but also within the supply chain team, logistics, HR's IT platform, and also with some other internal operations, like marketing, leadership, and also analytics team. The data centers have maxed out in terms of the hardware that they can support, and may be in need of expanding and opening up another data center."
   ]
  },
  {
   "cell_type": "markdown",
   "id": "64bd88d1",
   "metadata": {},
   "source": [
    "#### Assumptions when solving this problem\n",
    "\n",
    "- The problem statement merely states the current business problem you're facing. The design of the hypothetical data center, like square footage, hardware capabilities, human resources are all something you can create! The limitation is one thing to keep in mind, that in any data center(s), you have ran out of spaces to add more hardware.\n",
    "- You can assume based on the revenue the company is making how much data is being generated per day.\n",
    "- Be creative! If you're using third party data, i.e. Adobe Target for audience targeting, how are we receiving that data? Will that data sit on our data center and will it take up the resources? These are free constraints that you can create, but be realistic."
   ]
  },
  {
   "cell_type": "markdown",
   "id": "eeff2ec1",
   "metadata": {},
   "source": [
    "1. What is the current cost of maintaining the remote data center location?"
   ]
  },
  {
   "cell_type": "code",
   "execution_count": 1,
   "id": "7d9f0006",
   "metadata": {},
   "outputs": [],
   "source": [
    "# your solution\n",
    "#According to sources, the avergae cost to operate a data center is rougly 17 million dollars. Therefore, we will use this avergae to serve as our cost metric."
   ]
  },
  {
   "cell_type": "markdown",
   "id": "1803e76a",
   "metadata": {},
   "source": [
    "2. What are the new business requirements from your engineering team? "
   ]
  },
  {
   "cell_type": "code",
   "execution_count": 2,
   "id": "cd885a75",
   "metadata": {},
   "outputs": [],
   "source": [
    "# your solution, but be creative! It doesn't have to limit to the requirement from the problem statement\n",
    "# Given the large size of the company, we reccomend opening 2 data centers to provide additoinal square footage and hardware to suport the data requirements for said client\n",
    "#To further support this, we reccomend increasing the size of the engineering and data analytics team to support the entire operation\n",
    "#This way the organization can run more efficiently and address problems in a timely manner\n",
    "#Adding 2 centers is integral, as it seems to be data storge runs to capacity at a fast rate. Having 2 centers will enbale client to support its operations\n",
    "#without the need for being conscience of storage space"
   ]
  },
  {
   "cell_type": "markdown",
   "id": "4c9b740b",
   "metadata": {},
   "source": [
    "3. Based on the new business requirements, you decide that you need to start migrating (at least) your resources to the cloud system. What are some things that you may need to look into when considering migrating your legacy system to cloud?"
   ]
  },
  {
   "cell_type": "code",
   "execution_count": 3,
   "id": "c0e1eb0d",
   "metadata": {},
   "outputs": [],
   "source": [
    "# your solution\n",
    "#Making sure all data is a 1:1 match between both systems - no data leakage or loss should be incurred\n",
    "#May need to transfrorm data in a way that is compatiable with the end/target cloud system\n",
    "#Reccomend putting data thorugh a pipeline flow such as landing data to curating the data (addressing any null values or changing data types)\n",
    "#Then enriching the data to get it ready for production environments i.e. transforing columns. Lastly formatting the data into a product that\n",
    "#is aligned with the target cloud system\n",
    "\n",
    "#This process is important as we can ensure all data is of the right data type and can be accessed/read easily for non technical users"
   ]
  },
  {
   "cell_type": "markdown",
   "id": "59bec5af",
   "metadata": {},
   "source": [
    "4. In the end, you'll need to persuade leadership why you need to migrate a system to another place, i.e. cloud, when in the eyes of leadership, everything is working fine. Write out cons/pros based on the shared categories, like cost, human resources, etc."
   ]
  },
  {
   "cell_type": "code",
   "execution_count": 4,
   "id": "f99e810d",
   "metadata": {},
   "outputs": [],
   "source": [
    "# your solution\n",
    "\n",
    "#Pros\n",
    "# Migrating to cloud enables more storage capcity\n",
    "# data is more easily available\n",
    "# more cost efficent over the long-term\n",
    "\n",
    "#Cons\n",
    "# Inital investment is costly\n",
    "# Adding addtional team members increases payroll\n",
    "# Non technical users/customers may intially struggle using new system\n",
    "\n",
    "#Despite the large upfront cost, in the long term the company will be better off. Over time, by moving to the cloud, the maintence fees will become lower\n",
    "#The company will incurr great cost savings - impacting their bottom line profit in a great way\n",
    "#Additionally, many organizations are moving to the cloud. It is important to stay in the now for peak tech trends\n",
    "#Migrating to the cloud ensures our organziation stays up to date, ensuring our users/customers/workers have a good experience"
   ]
  },
  {
   "cell_type": "markdown",
   "id": "6e33f2e8",
   "metadata": {},
   "source": [
    "(OPTIONAL) This may require an engineering/software background. You have the same hypothetical machine learning architecture, but one on the legacy system and one on the cloud. Moving away from the business logic, what is the benefit on the engineering stack if we use the cloud? What can be problematic if we use the cloud?"
   ]
  },
  {
   "cell_type": "code",
   "execution_count": 5,
   "id": "edbbc3aa",
   "metadata": {},
   "outputs": [],
   "source": [
    "# your solution, attach a screenshot of a hypothetical architecture at a high level"
   ]
  },
  {
   "cell_type": "code",
   "execution_count": null,
   "id": "60f1049e",
   "metadata": {},
   "outputs": [],
   "source": [
    "#security benefits - ensuring system is secure and hackers cannot obtain data\n"
   ]
  }
 ],
 "metadata": {
  "kernelspec": {
   "display_name": "Python 3 (ipykernel)",
   "language": "python",
   "name": "python3"
  },
  "language_info": {
   "codemirror_mode": {
    "name": "ipython",
    "version": 3
   },
   "file_extension": ".py",
   "mimetype": "text/x-python",
   "name": "python",
   "nbconvert_exporter": "python",
   "pygments_lexer": "ipython3",
   "version": "3.11.7"
  }
 },
 "nbformat": 4,
 "nbformat_minor": 5
}
