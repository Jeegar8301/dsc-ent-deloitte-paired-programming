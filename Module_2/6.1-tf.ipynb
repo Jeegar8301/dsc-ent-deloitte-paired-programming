{
 "cells": [
  {
   "cell_type": "markdown",
   "metadata": {
    "nbgrader": {
     "grade": false,
     "grade_id": "cell-a405f9c797c90edb",
     "locked": true,
     "schema_version": 3,
     "solution": false,
     "task": false
    }
   },
   "source": [
    "# TensorFlow Checkpoint\n",
    "\n",
    "This assessment covers building and training a `tf.keras` `Sequential` model, then applying regularization.  The dataset comes from a [\"don't overfit\" Kaggle competition](https://www.kaggle.com/c/dont-overfit-ii).  There are 300 features labeled 0-299, and a binary target called \"target\".  There are only 250 records total, meaning this is a very small dataset to be used with a neural network. \n",
    "\n",
    "_You can assume that the dataset has already been scaled._\n",
    "\n",
    "N.B. You may get comments from keras/ternsorflow regarding your kernel and runtime. These are completely normal and are informative comments, rather than warnings."
   ]
  },
  {
   "cell_type": "code",
   "execution_count": 62,
   "metadata": {
    "ExecuteTime": {
     "end_time": "2020-11-04T16:46:28.793582Z",
     "start_time": "2020-11-04T16:46:24.326301Z"
    },
    "nbgrader": {
     "grade": false,
     "grade_id": "cell-4ab18aba8319e5bb",
     "locked": true,
     "schema_version": 3,
     "solution": false,
     "task": false
    }
   },
   "outputs": [],
   "source": [
    "# Run this cell without changes\n",
    "\n",
    "import matplotlib.pyplot as plt\n",
    "import seaborn as sns\n",
    "\n",
    "import numpy as np\n",
    "import pandas as pd\n",
    "from sklearn.metrics import accuracy_score\n",
    "from sklearn.model_selection import train_test_split\n",
    "\n",
    "import tensorflow as tf\n",
    "from tensorflow.keras import Sequential, regularizers\n",
    "from tensorflow.keras.layers import Dense, Dropout\n",
    "from tensorflow.keras.wrappers.scikit_learn import KerasClassifier"
   ]
  },
  {
   "cell_type": "markdown",
   "metadata": {
    "nbgrader": {
     "grade": false,
     "grade_id": "cell-c7b992c89bbf7019",
     "locked": true,
     "schema_version": 3,
     "solution": false,
     "task": false
    }
   },
   "source": [
    "## 1) Prepare Data for Modeling\n",
    "\n",
    "* Using `pandas`, open the file `data.csv` as a DataFrame\n",
    "* Drop the `\"id\"` column, since this is a unique identifier and not a feature\n",
    "* Separate the data into `X` (a DataFrame with all columns except `\"target\"`) and `y` (a Series with just the `\"target\"` column)\n",
    "* The train-test split should work as-is once you create these variables"
   ]
  },
  {
   "cell_type": "code",
   "execution_count": 63,
   "metadata": {
    "nbgrader": {
     "grade": false,
     "grade_id": "cell-d01723acad72a02e",
     "locked": false,
     "schema_version": 3,
     "solution": true,
     "task": false
    }
   },
   "outputs": [],
   "source": [
    "# Replace None with appropriate code\n",
    "\n",
    "# Read in the data\n",
    "df = pd.read_csv('data.csv')\n",
    "\n",
    "# Drop the \"id\" column\n",
    "df = df.drop('id', axis = 1)\n",
    "\n",
    "# Separate into X and y\n",
    "X = df.drop('target', axis = 1)\n",
    "y = df['target']\n",
    "\n",
    "# Test/train split (set the random state to 2021) and check the X_Train shape\n",
    "X_train, X_test, y_train, y_test = train_test_split(X, y, test_size = 0.25, random_state = 2021)"
   ]
  },
  {
   "cell_type": "code",
   "execution_count": null,
   "metadata": {},
   "outputs": [],
   "source": []
  },
  {
   "cell_type": "code",
   "execution_count": 64,
   "metadata": {},
   "outputs": [],
   "source": [
    "# Run this code block without any changes\n",
    "\n",
    "# Assert\n",
    "\n",
    "assert type(df) == pd.DataFrame\n",
    "assert type(X) == pd.DataFrame\n",
    "assert type(y) == pd.Series\n",
    "\n",
    "assert X_train.shape == (187, 300)\n",
    "assert y_train.shape == (187,)"
   ]
  },
  {
   "cell_type": "markdown",
   "metadata": {
    "nbgrader": {
     "grade": false,
     "grade_id": "cell-2aa2425f887ac9b0",
     "locked": true,
     "schema_version": 3,
     "solution": false,
     "task": false
    }
   },
   "source": [
    "## 2) Instantiate a `Sequential` Model\n",
    "\n",
    "In the cell below, create an instance of a `Sequential` model ([documentation here](https://keras.io/guides/sequential_model/)) called `dense_model` with a `name` of `\"dense\"` and otherwise default arguments.\n",
    "\n",
    "*In other words, create a model without any layers. We will add layers in a future step.*"
   ]
  },
  {
   "cell_type": "code",
   "execution_count": 65,
   "metadata": {
    "nbgrader": {
     "grade": false,
     "grade_id": "cell-6c7980c4f4e802ae",
     "locked": false,
     "schema_version": 3,
     "solution": true,
     "task": false
    }
   },
   "outputs": [],
   "source": [
    "# Replace None with appropriate code\n",
    "\n",
    "dense_model = Sequential(name = 'dense')"
   ]
  },
  {
   "cell_type": "code",
   "execution_count": 66,
   "metadata": {
    "nbgrader": {
     "grade": true,
     "grade_id": "cell-4019299c1abee581",
     "locked": true,
     "points": 1,
     "schema_version": 3,
     "solution": false,
     "task": false
    }
   },
   "outputs": [],
   "source": [
    "# Run this code without change\n",
    "\n",
    "# Assert\n",
    "\n",
    "assert len(dense_model.layers) == 0\n",
    "assert type(dense_model) == Sequential\n",
    "assert dense_model.name == \"dense\"\n"
   ]
  },
  {
   "cell_type": "markdown",
   "metadata": {
    "nbgrader": {
     "grade": false,
     "grade_id": "cell-b777879670a57fbf",
     "locked": true,
     "schema_version": 3,
     "solution": false,
     "task": false
    }
   },
   "source": [
    "## 3) Determine Input and Output Shapes\n",
    "\n",
    "How many input and output nodes should this model have?\n",
    "\n",
    "Feel free to explore the attributes of `X` and `y` to determine this answer, or just to enter numbers based on the problem description above."
   ]
  },
  {
   "cell_type": "code",
   "execution_count": 67,
   "metadata": {
    "nbgrader": {
     "grade": false,
     "grade_id": "cell-63ba55e28070fbb7",
     "locked": false,
     "schema_version": 3,
     "solution": true,
     "task": false
    }
   },
   "outputs": [],
   "source": [
    "# Replace None with appropriate code\n",
    "\n",
    "num_input_nodes = 300\n",
    "num_output_nodes = 1"
   ]
  },
  {
   "cell_type": "code",
   "execution_count": 68,
   "metadata": {
    "nbgrader": {
     "grade": true,
     "grade_id": "cell-f10eae123c0da13e",
     "locked": true,
     "points": 1,
     "schema_version": 3,
     "solution": false,
     "task": false
    }
   },
   "outputs": [
    {
     "data": {
      "text/plain": [
       "1.0"
      ]
     },
     "execution_count": 68,
     "metadata": {},
     "output_type": "execute_result"
    }
   ],
   "source": [
    "# Run this code without change\n",
    "\n",
    "# Both values should be integers\n",
    "assert type(num_input_nodes) == int\n",
    "assert type(num_output_nodes) == int\n",
    "\n",
    "score = 0\n",
    "\n",
    "# 300 features, so 300 input nodes\n",
    "if num_input_nodes == 300:\n",
    "    score += 0.5\n",
    "    \n",
    "# binary output, so 1 output node\n",
    "if num_output_nodes == 1:\n",
    "    score += 0.5\n",
    "elif num_output_nodes == 2:\n",
    "    # Partial credit for this answer, since it's technically\n",
    "    # possible to use 2 output nodes for this, although it's\n",
    "    # confusingly redundant\n",
    "    score += 0.25\n",
    "\n",
    "score"
   ]
  },
  {
   "cell_type": "markdown",
   "metadata": {
    "nbgrader": {
     "grade": false,
     "grade_id": "cell-1a3c44e684a51352",
     "locked": true,
     "schema_version": 3,
     "solution": false,
     "task": false
    }
   },
   "source": [
    "The code below will use the input and output shapes you specified to add `Dense` layers to the model:"
   ]
  },
  {
   "cell_type": "code",
   "execution_count": 69,
   "metadata": {},
   "outputs": [
    {
     "data": {
      "text/plain": [
       "[<tensorflow.python.keras.layers.core.Dense at 0x2435f125c40>,\n",
       " <tensorflow.python.keras.layers.core.Dense at 0x2435f125e50>,\n",
       " <tensorflow.python.keras.layers.core.Dense at 0x2435f12aa00>]"
      ]
     },
     "execution_count": 69,
     "metadata": {},
     "output_type": "execute_result"
    }
   ],
   "source": [
    "# Run this cell without changes\n",
    "\n",
    "# Add input layer\n",
    "dense_model.add(Dense(units=64, input_shape=(num_input_nodes,)))\n",
    "\n",
    "# Add hidden layers\n",
    "dense_model.add(Dense(units=64))\n",
    "dense_model.add(Dense(units=64))\n",
    "\n",
    "dense_model.layers"
   ]
  },
  {
   "cell_type": "markdown",
   "metadata": {
    "nbgrader": {
     "grade": false,
     "grade_id": "cell-8505e21901e1e252",
     "locked": true,
     "schema_version": 3,
     "solution": false,
     "task": false
    }
   },
   "source": [
    "## 4) Add an Output Layer\n",
    "\n",
    "Specify an appropriate activation function ([documentation here](https://keras.io/api/layers/activations/)).\n",
    "\n",
    "We'll simplify the problem by specifying that you should use the string identifier for the function, and it should be one of these options:\n",
    "\n",
    "* `sigmoid`\n",
    "* `softmax`\n",
    "\n",
    "***Hint:*** is this a binary or a multi-class problem? This should guide your choice of activation function."
   ]
  },
  {
   "cell_type": "code",
   "execution_count": 70,
   "metadata": {
    "nbgrader": {
     "grade": false,
     "grade_id": "cell-0aeea3d8ccac319e",
     "locked": false,
     "schema_version": 3,
     "solution": true,
     "task": false
    }
   },
   "outputs": [],
   "source": [
    "# Replace None with appropriate code\n",
    "\n",
    "\n",
    "activation_function = 'sigmoid'"
   ]
  },
  {
   "cell_type": "code",
   "execution_count": 71,
   "metadata": {
    "nbgrader": {
     "grade": true,
     "grade_id": "cell-332525f03472a594",
     "locked": true,
     "points": 1,
     "schema_version": 3,
     "solution": false,
     "task": false
    }
   },
   "outputs": [],
   "source": [
    "# Run this cell without changes\n",
    "\n",
    "# activation_function should be a string\n",
    "assert type(activation_function) == str\n",
    "\n",
    "if num_output_nodes == 1:\n",
    "    assert activation_function == \"sigmoid\"\n",
    "else:\n",
    "    # The number of output nodes _should_ be 1, but we'll\n",
    "    # give credit for a matching function even if the\n",
    "    # previous answer was incorrect\n",
    "    assert activation_function == \"softmax\""
   ]
  },
  {
   "cell_type": "markdown",
   "metadata": {
    "nbgrader": {
     "grade": false,
     "grade_id": "cell-5c793011c6345392",
     "locked": true,
     "schema_version": 3,
     "solution": false,
     "task": false
    }
   },
   "source": [
    "Now we'll use that information to finalize the model.\n",
    "\n",
    "If this code produces an error, consider restarting the kernel and re-running the code above. If it still produces an error, that is an indication that one or more of your answers above is incorrect."
   ]
  },
  {
   "cell_type": "code",
   "execution_count": 72,
   "metadata": {
    "nbgrader": {
     "grade": false,
     "grade_id": "cell-e04042f44ccb24bb",
     "locked": true,
     "schema_version": 3,
     "solution": false,
     "task": false
    }
   },
   "outputs": [
    {
     "name": "stdout",
     "output_type": "stream",
     "text": [
      "Model: \"dense\"\n",
      "_________________________________________________________________\n",
      "Layer (type)                 Output Shape              Param #   \n",
      "=================================================================\n",
      "dense_8 (Dense)              (None, 64)                19264     \n",
      "_________________________________________________________________\n",
      "dense_9 (Dense)              (None, 64)                4160      \n",
      "_________________________________________________________________\n",
      "dense_10 (Dense)             (None, 64)                4160      \n",
      "_________________________________________________________________\n",
      "dense_11 (Dense)             (None, 1)                 65        \n",
      "=================================================================\n",
      "Total params: 27,649\n",
      "Trainable params: 27,649\n",
      "Non-trainable params: 0\n",
      "_________________________________________________________________\n"
     ]
    }
   ],
   "source": [
    "# Run this cell without changes\n",
    "\n",
    "# Add output layer\n",
    "dense_model.add(Dense(units=num_output_nodes, activation=activation_function))\n",
    "\n",
    "# Determine appropriate loss function\n",
    "if num_output_nodes == 1:\n",
    "    loss = \"binary_crossentropy\"\n",
    "else:\n",
    "    loss = \"categorical_crossentropy\"\n",
    "\n",
    "# Compile model\n",
    "dense_model.compile(\n",
    "    optimizer=\"adam\",\n",
    "    loss=loss,\n",
    "    metrics=[\"accuracy\"]\n",
    ")\n",
    "\n",
    "dense_model.summary()"
   ]
  },
  {
   "cell_type": "code",
   "execution_count": 73,
   "metadata": {
    "nbgrader": {
     "grade": false,
     "grade_id": "cell-d54efbf306c08d85",
     "locked": true,
     "schema_version": 3,
     "solution": false,
     "task": false
    }
   },
   "outputs": [
    {
     "name": "stdout",
     "output_type": "stream",
     "text": [
      "Epoch 1/100\n",
      "12/12 [==============================] - 0s 31ms/step - loss: 0.8592 - accuracy: 0.5804 - val_loss: 0.8543 - val_accuracy: 0.5467\n",
      "Epoch 2/100\n",
      "12/12 [==============================] - 0s 3ms/step - loss: 0.3633 - accuracy: 0.8482 - val_loss: 0.9163 - val_accuracy: 0.4933\n",
      "Epoch 3/100\n",
      "12/12 [==============================] - 0s 3ms/step - loss: 0.2121 - accuracy: 0.9286 - val_loss: 1.0253 - val_accuracy: 0.5333\n",
      "Epoch 4/100\n",
      "12/12 [==============================] - 0s 3ms/step - loss: 0.1164 - accuracy: 0.9732 - val_loss: 1.1793 - val_accuracy: 0.5333\n",
      "Epoch 5/100\n",
      "12/12 [==============================] - 0s 3ms/step - loss: 0.0659 - accuracy: 1.0000 - val_loss: 1.3448 - val_accuracy: 0.5200\n",
      "Epoch 6/100\n",
      "12/12 [==============================] - 0s 4ms/step - loss: 0.0349 - accuracy: 1.0000 - val_loss: 1.5177 - val_accuracy: 0.5467\n",
      "Epoch 7/100\n",
      "12/12 [==============================] - 0s 3ms/step - loss: 0.0179 - accuracy: 1.0000 - val_loss: 1.6566 - val_accuracy: 0.5467\n",
      "Epoch 8/100\n",
      "12/12 [==============================] - 0s 3ms/step - loss: 0.0111 - accuracy: 1.0000 - val_loss: 1.7550 - val_accuracy: 0.5467\n",
      "Epoch 9/100\n",
      "12/12 [==============================] - 0s 3ms/step - loss: 0.0077 - accuracy: 1.0000 - val_loss: 1.8340 - val_accuracy: 0.5467\n",
      "Epoch 10/100\n",
      "12/12 [==============================] - 0s 3ms/step - loss: 0.0057 - accuracy: 1.0000 - val_loss: 1.8922 - val_accuracy: 0.5467\n",
      "Epoch 11/100\n",
      "12/12 [==============================] - 0s 4ms/step - loss: 0.0044 - accuracy: 1.0000 - val_loss: 1.9414 - val_accuracy: 0.5467\n",
      "Epoch 12/100\n",
      "12/12 [==============================] - 0s 3ms/step - loss: 0.0036 - accuracy: 1.0000 - val_loss: 1.9868 - val_accuracy: 0.5467\n",
      "Epoch 13/100\n",
      "12/12 [==============================] - 0s 3ms/step - loss: 0.0030 - accuracy: 1.0000 - val_loss: 2.0238 - val_accuracy: 0.5467\n",
      "Epoch 14/100\n",
      "12/12 [==============================] - 0s 3ms/step - loss: 0.0025 - accuracy: 1.0000 - val_loss: 2.0558 - val_accuracy: 0.5467\n",
      "Epoch 15/100\n",
      "12/12 [==============================] - 0s 3ms/step - loss: 0.0021 - accuracy: 1.0000 - val_loss: 2.0887 - val_accuracy: 0.5467\n",
      "Epoch 16/100\n",
      "12/12 [==============================] - 0s 3ms/step - loss: 0.0019 - accuracy: 1.0000 - val_loss: 2.1172 - val_accuracy: 0.5467\n",
      "Epoch 17/100\n",
      "12/12 [==============================] - 0s 3ms/step - loss: 0.0016 - accuracy: 1.0000 - val_loss: 2.1430 - val_accuracy: 0.5600\n",
      "Epoch 18/100\n",
      "12/12 [==============================] - 0s 3ms/step - loss: 0.0015 - accuracy: 1.0000 - val_loss: 2.1694 - val_accuracy: 0.5600\n",
      "Epoch 19/100\n",
      "12/12 [==============================] - 0s 4ms/step - loss: 0.0013 - accuracy: 1.0000 - val_loss: 2.1945 - val_accuracy: 0.5600\n",
      "Epoch 20/100\n",
      "12/12 [==============================] - 0s 3ms/step - loss: 0.0012 - accuracy: 1.0000 - val_loss: 2.2182 - val_accuracy: 0.5600\n",
      "Epoch 21/100\n",
      "12/12 [==============================] - 0s 3ms/step - loss: 0.0011 - accuracy: 1.0000 - val_loss: 2.2410 - val_accuracy: 0.5600\n",
      "Epoch 22/100\n",
      "12/12 [==============================] - 0s 3ms/step - loss: 9.5552e-04 - accuracy: 1.0000 - val_loss: 2.2616 - val_accuracy: 0.5600\n",
      "Epoch 23/100\n",
      "12/12 [==============================] - 0s 3ms/step - loss: 8.7394e-04 - accuracy: 1.0000 - val_loss: 2.2850 - val_accuracy: 0.5600\n",
      "Epoch 24/100\n",
      "12/12 [==============================] - 0s 4ms/step - loss: 7.9894e-04 - accuracy: 1.0000 - val_loss: 2.3047 - val_accuracy: 0.5600\n",
      "Epoch 25/100\n",
      "12/12 [==============================] - 0s 4ms/step - loss: 7.3732e-04 - accuracy: 1.0000 - val_loss: 2.3232 - val_accuracy: 0.5600\n",
      "Epoch 26/100\n",
      "12/12 [==============================] - 0s 3ms/step - loss: 6.8027e-04 - accuracy: 1.0000 - val_loss: 2.3399 - val_accuracy: 0.5600\n",
      "Epoch 27/100\n",
      "12/12 [==============================] - 0s 3ms/step - loss: 6.3247e-04 - accuracy: 1.0000 - val_loss: 2.3570 - val_accuracy: 0.5600\n",
      "Epoch 28/100\n",
      "12/12 [==============================] - 0s 4ms/step - loss: 5.8856e-04 - accuracy: 1.0000 - val_loss: 2.3735 - val_accuracy: 0.5600\n",
      "Epoch 29/100\n",
      "12/12 [==============================] - 0s 3ms/step - loss: 5.4914e-04 - accuracy: 1.0000 - val_loss: 2.3874 - val_accuracy: 0.5600\n",
      "Epoch 30/100\n",
      "12/12 [==============================] - 0s 3ms/step - loss: 5.1375e-04 - accuracy: 1.0000 - val_loss: 2.4022 - val_accuracy: 0.5600\n",
      "Epoch 31/100\n",
      "12/12 [==============================] - 0s 3ms/step - loss: 4.8117e-04 - accuracy: 1.0000 - val_loss: 2.4177 - val_accuracy: 0.5600\n",
      "Epoch 32/100\n",
      "12/12 [==============================] - 0s 3ms/step - loss: 4.5174e-04 - accuracy: 1.0000 - val_loss: 2.4323 - val_accuracy: 0.5600\n",
      "Epoch 33/100\n",
      "12/12 [==============================] - 0s 3ms/step - loss: 4.2552e-04 - accuracy: 1.0000 - val_loss: 2.4461 - val_accuracy: 0.5600\n",
      "Epoch 34/100\n",
      "12/12 [==============================] - 0s 3ms/step - loss: 3.9802e-04 - accuracy: 1.0000 - val_loss: 2.4618 - val_accuracy: 0.5600\n",
      "Epoch 35/100\n",
      "12/12 [==============================] - 0s 3ms/step - loss: 3.7519e-04 - accuracy: 1.0000 - val_loss: 2.4758 - val_accuracy: 0.5600\n",
      "Epoch 36/100\n",
      "12/12 [==============================] - 0s 4ms/step - loss: 3.5560e-04 - accuracy: 1.0000 - val_loss: 2.4891 - val_accuracy: 0.5600\n",
      "Epoch 37/100\n",
      "12/12 [==============================] - 0s 3ms/step - loss: 3.3750e-04 - accuracy: 1.0000 - val_loss: 2.5015 - val_accuracy: 0.5600\n",
      "Epoch 38/100\n",
      "12/12 [==============================] - 0s 4ms/step - loss: 3.1992e-04 - accuracy: 1.0000 - val_loss: 2.5143 - val_accuracy: 0.5600\n",
      "Epoch 39/100\n",
      "12/12 [==============================] - 0s 3ms/step - loss: 3.0312e-04 - accuracy: 1.0000 - val_loss: 2.5261 - val_accuracy: 0.5600\n",
      "Epoch 40/100\n",
      "12/12 [==============================] - 0s 3ms/step - loss: 2.8796e-04 - accuracy: 1.0000 - val_loss: 2.5373 - val_accuracy: 0.5600\n",
      "Epoch 41/100\n",
      "12/12 [==============================] - 0s 3ms/step - loss: 2.7385e-04 - accuracy: 1.0000 - val_loss: 2.5487 - val_accuracy: 0.5600\n",
      "Epoch 42/100\n",
      "12/12 [==============================] - 0s 3ms/step - loss: 2.6144e-04 - accuracy: 1.0000 - val_loss: 2.5612 - val_accuracy: 0.5600\n",
      "Epoch 43/100\n",
      "12/12 [==============================] - 0s 3ms/step - loss: 2.4890e-04 - accuracy: 1.0000 - val_loss: 2.5713 - val_accuracy: 0.5600\n",
      "Epoch 44/100\n",
      "12/12 [==============================] - 0s 3ms/step - loss: 2.3782e-04 - accuracy: 1.0000 - val_loss: 2.5832 - val_accuracy: 0.5600\n",
      "Epoch 45/100\n",
      "12/12 [==============================] - 0s 3ms/step - loss: 2.2688e-04 - accuracy: 1.0000 - val_loss: 2.5929 - val_accuracy: 0.5600\n",
      "Epoch 46/100\n",
      "12/12 [==============================] - 0s 3ms/step - loss: 2.1748e-04 - accuracy: 1.0000 - val_loss: 2.6036 - val_accuracy: 0.5467\n",
      "Epoch 47/100\n",
      "12/12 [==============================] - 0s 3ms/step - loss: 2.0798e-04 - accuracy: 1.0000 - val_loss: 2.6137 - val_accuracy: 0.5467\n",
      "Epoch 48/100\n",
      "12/12 [==============================] - 0s 3ms/step - loss: 1.9919e-04 - accuracy: 1.0000 - val_loss: 2.6241 - val_accuracy: 0.5467\n",
      "Epoch 49/100\n",
      "12/12 [==============================] - 0s 3ms/step - loss: 1.9082e-04 - accuracy: 1.0000 - val_loss: 2.6340 - val_accuracy: 0.5467\n",
      "Epoch 50/100\n",
      "12/12 [==============================] - 0s 3ms/step - loss: 1.8362e-04 - accuracy: 1.0000 - val_loss: 2.6436 - val_accuracy: 0.5467\n",
      "Epoch 51/100\n",
      "12/12 [==============================] - 0s 3ms/step - loss: 1.7639e-04 - accuracy: 1.0000 - val_loss: 2.6530 - val_accuracy: 0.5467\n",
      "Epoch 52/100\n",
      "12/12 [==============================] - 0s 3ms/step - loss: 1.6897e-04 - accuracy: 1.0000 - val_loss: 2.6611 - val_accuracy: 0.5467\n",
      "Epoch 53/100\n",
      "12/12 [==============================] - 0s 3ms/step - loss: 1.6282e-04 - accuracy: 1.0000 - val_loss: 2.6690 - val_accuracy: 0.5467\n",
      "Epoch 54/100\n",
      "12/12 [==============================] - 0s 3ms/step - loss: 1.5724e-04 - accuracy: 1.0000 - val_loss: 2.6776 - val_accuracy: 0.5467\n",
      "Epoch 55/100\n",
      "12/12 [==============================] - 0s 3ms/step - loss: 1.5177e-04 - accuracy: 1.0000 - val_loss: 2.6864 - val_accuracy: 0.5467\n",
      "Epoch 56/100\n",
      "12/12 [==============================] - 0s 3ms/step - loss: 1.4638e-04 - accuracy: 1.0000 - val_loss: 2.6944 - val_accuracy: 0.5467\n",
      "Epoch 57/100\n",
      "12/12 [==============================] - 0s 3ms/step - loss: 1.4123e-04 - accuracy: 1.0000 - val_loss: 2.7023 - val_accuracy: 0.5467\n"
     ]
    },
    {
     "name": "stdout",
     "output_type": "stream",
     "text": [
      "Epoch 58/100\n",
      "12/12 [==============================] - 0s 4ms/step - loss: 1.3655e-04 - accuracy: 1.0000 - val_loss: 2.7099 - val_accuracy: 0.5467\n",
      "Epoch 59/100\n",
      "12/12 [==============================] - 0s 3ms/step - loss: 1.3215e-04 - accuracy: 1.0000 - val_loss: 2.7182 - val_accuracy: 0.5467\n",
      "Epoch 60/100\n",
      "12/12 [==============================] - 0s 3ms/step - loss: 1.2749e-04 - accuracy: 1.0000 - val_loss: 2.7259 - val_accuracy: 0.5467\n",
      "Epoch 61/100\n",
      "12/12 [==============================] - 0s 3ms/step - loss: 1.2290e-04 - accuracy: 1.0000 - val_loss: 2.7340 - val_accuracy: 0.5600\n",
      "Epoch 62/100\n",
      "12/12 [==============================] - 0s 3ms/step - loss: 1.1887e-04 - accuracy: 1.0000 - val_loss: 2.7419 - val_accuracy: 0.5600\n",
      "Epoch 63/100\n",
      "12/12 [==============================] - 0s 3ms/step - loss: 1.1532e-04 - accuracy: 1.0000 - val_loss: 2.7497 - val_accuracy: 0.5600\n",
      "Epoch 64/100\n",
      "12/12 [==============================] - 0s 3ms/step - loss: 1.1144e-04 - accuracy: 1.0000 - val_loss: 2.7566 - val_accuracy: 0.5600\n",
      "Epoch 65/100\n",
      "12/12 [==============================] - 0s 3ms/step - loss: 1.0812e-04 - accuracy: 1.0000 - val_loss: 2.7648 - val_accuracy: 0.5600\n",
      "Epoch 66/100\n",
      "12/12 [==============================] - 0s 3ms/step - loss: 1.0491e-04 - accuracy: 1.0000 - val_loss: 2.7728 - val_accuracy: 0.5600\n",
      "Epoch 67/100\n",
      "12/12 [==============================] - 0s 3ms/step - loss: 1.0165e-04 - accuracy: 1.0000 - val_loss: 2.7804 - val_accuracy: 0.5600\n",
      "Epoch 68/100\n",
      "12/12 [==============================] - 0s 3ms/step - loss: 9.8560e-05 - accuracy: 1.0000 - val_loss: 2.7868 - val_accuracy: 0.5600\n",
      "Epoch 69/100\n",
      "12/12 [==============================] - 0s 3ms/step - loss: 9.5820e-05 - accuracy: 1.0000 - val_loss: 2.7936 - val_accuracy: 0.5600\n",
      "Epoch 70/100\n",
      "12/12 [==============================] - 0s 3ms/step - loss: 9.3165e-05 - accuracy: 1.0000 - val_loss: 2.8001 - val_accuracy: 0.5600\n",
      "Epoch 71/100\n",
      "12/12 [==============================] - 0s 3ms/step - loss: 9.0663e-05 - accuracy: 1.0000 - val_loss: 2.8072 - val_accuracy: 0.5600\n",
      "Epoch 72/100\n",
      "12/12 [==============================] - 0s 3ms/step - loss: 8.8097e-05 - accuracy: 1.0000 - val_loss: 2.8135 - val_accuracy: 0.5600\n",
      "Epoch 73/100\n",
      "12/12 [==============================] - 0s 3ms/step - loss: 8.5604e-05 - accuracy: 1.0000 - val_loss: 2.8202 - val_accuracy: 0.5600\n",
      "Epoch 74/100\n",
      "12/12 [==============================] - 0s 3ms/step - loss: 8.3264e-05 - accuracy: 1.0000 - val_loss: 2.8275 - val_accuracy: 0.5467\n",
      "Epoch 75/100\n",
      "12/12 [==============================] - 0s 3ms/step - loss: 8.1025e-05 - accuracy: 1.0000 - val_loss: 2.8342 - val_accuracy: 0.5467\n",
      "Epoch 76/100\n",
      "12/12 [==============================] - 0s 4ms/step - loss: 7.8724e-05 - accuracy: 1.0000 - val_loss: 2.8411 - val_accuracy: 0.5467\n",
      "Epoch 77/100\n",
      "12/12 [==============================] - 0s 3ms/step - loss: 7.6595e-05 - accuracy: 1.0000 - val_loss: 2.8480 - val_accuracy: 0.5467\n",
      "Epoch 78/100\n",
      "12/12 [==============================] - 0s 3ms/step - loss: 7.4674e-05 - accuracy: 1.0000 - val_loss: 2.8542 - val_accuracy: 0.5467\n",
      "Epoch 79/100\n",
      "12/12 [==============================] - 0s 3ms/step - loss: 7.2677e-05 - accuracy: 1.0000 - val_loss: 2.8604 - val_accuracy: 0.5467\n",
      "Epoch 80/100\n",
      "12/12 [==============================] - 0s 3ms/step - loss: 7.0915e-05 - accuracy: 1.0000 - val_loss: 2.8662 - val_accuracy: 0.5467\n",
      "Epoch 81/100\n",
      "12/12 [==============================] - 0s 3ms/step - loss: 6.9155e-05 - accuracy: 1.0000 - val_loss: 2.8718 - val_accuracy: 0.5467\n",
      "Epoch 82/100\n",
      "12/12 [==============================] - 0s 3ms/step - loss: 6.7514e-05 - accuracy: 1.0000 - val_loss: 2.8773 - val_accuracy: 0.5467\n",
      "Epoch 83/100\n",
      "12/12 [==============================] - 0s 3ms/step - loss: 6.5983e-05 - accuracy: 1.0000 - val_loss: 2.8829 - val_accuracy: 0.5467\n",
      "Epoch 84/100\n",
      "12/12 [==============================] - 0s 3ms/step - loss: 6.4331e-05 - accuracy: 1.0000 - val_loss: 2.8888 - val_accuracy: 0.5467\n",
      "Epoch 85/100\n",
      "12/12 [==============================] - 0s 3ms/step - loss: 6.2789e-05 - accuracy: 1.0000 - val_loss: 2.8946 - val_accuracy: 0.5467\n",
      "Epoch 86/100\n",
      "12/12 [==============================] - 0s 3ms/step - loss: 6.1287e-05 - accuracy: 1.0000 - val_loss: 2.8999 - val_accuracy: 0.5467\n",
      "Epoch 87/100\n",
      "12/12 [==============================] - 0s 3ms/step - loss: 5.9969e-05 - accuracy: 1.0000 - val_loss: 2.9054 - val_accuracy: 0.5467\n",
      "Epoch 88/100\n",
      "12/12 [==============================] - 0s 3ms/step - loss: 5.8657e-05 - accuracy: 1.0000 - val_loss: 2.9107 - val_accuracy: 0.5467\n",
      "Epoch 89/100\n",
      "12/12 [==============================] - 0s 3ms/step - loss: 5.7296e-05 - accuracy: 1.0000 - val_loss: 2.9158 - val_accuracy: 0.5467\n",
      "Epoch 90/100\n",
      "12/12 [==============================] - 0s 3ms/step - loss: 5.6068e-05 - accuracy: 1.0000 - val_loss: 2.9212 - val_accuracy: 0.5467\n",
      "Epoch 91/100\n",
      "12/12 [==============================] - 0s 3ms/step - loss: 5.4837e-05 - accuracy: 1.0000 - val_loss: 2.9263 - val_accuracy: 0.5467\n",
      "Epoch 92/100\n",
      "12/12 [==============================] - 0s 3ms/step - loss: 5.3553e-05 - accuracy: 1.0000 - val_loss: 2.9322 - val_accuracy: 0.5467\n",
      "Epoch 93/100\n",
      "12/12 [==============================] - 0s 3ms/step - loss: 5.2419e-05 - accuracy: 1.0000 - val_loss: 2.9385 - val_accuracy: 0.5467\n",
      "Epoch 94/100\n",
      "12/12 [==============================] - 0s 3ms/step - loss: 5.1183e-05 - accuracy: 1.0000 - val_loss: 2.9440 - val_accuracy: 0.5467\n",
      "Epoch 95/100\n",
      "12/12 [==============================] - 0s 3ms/step - loss: 5.0042e-05 - accuracy: 1.0000 - val_loss: 2.9491 - val_accuracy: 0.5467\n",
      "Epoch 96/100\n",
      "12/12 [==============================] - 0s 3ms/step - loss: 4.8959e-05 - accuracy: 1.0000 - val_loss: 2.9538 - val_accuracy: 0.5467\n",
      "Epoch 97/100\n",
      "12/12 [==============================] - 0s 3ms/step - loss: 4.7930e-05 - accuracy: 1.0000 - val_loss: 2.9588 - val_accuracy: 0.5467\n",
      "Epoch 98/100\n",
      "12/12 [==============================] - 0s 2ms/step - loss: 4.6998e-05 - accuracy: 1.0000 - val_loss: 2.9640 - val_accuracy: 0.5467\n",
      "Epoch 99/100\n",
      "12/12 [==============================] - 0s 3ms/step - loss: 4.5964e-05 - accuracy: 1.0000 - val_loss: 2.9689 - val_accuracy: 0.5467\n",
      "Epoch 100/100\n",
      "12/12 [==============================] - 0s 3ms/step - loss: 4.5030e-05 - accuracy: 1.0000 - val_loss: 2.9742 - val_accuracy: 0.5467\n"
     ]
    }
   ],
   "source": [
    "# Replace None as necessary\n",
    "\n",
    "# Fit the model to the training data, using a subset of the\n",
    "# training data as validation data\n",
    "dense_model_results = dense_model.fit(\n",
    "    x=X_train,\n",
    "    y=y_train,\n",
    "    batch_size=10,\n",
    "    epochs=100,\n",
    "    verbose=1,\n",
    "    validation_split=0.4,\n",
    "    shuffle=2\n",
    ")"
   ]
  },
  {
   "cell_type": "code",
   "execution_count": 74,
   "metadata": {
    "nbgrader": {
     "grade": false,
     "grade_id": "cell-0639b5c80e98ab40",
     "locked": true,
     "schema_version": 3,
     "solution": false,
     "task": false
    }
   },
   "outputs": [
    {
     "data": {
      "image/png": "[encoded data removed]",
      "text/plain": [
       "<Figure size 720x360 with 2 Axes>"
      ]
     },
     "metadata": {
      "needs_background": "light"
     },
     "output_type": "display_data"
    }
   ],
   "source": [
    "# Run this cell without changes\n",
    "\n",
    "def plot_loss_and_accuracy(results, final=False):\n",
    "    \n",
    "    if final:\n",
    "        val_label=\"test\"\n",
    "    else:\n",
    "        val_label=\"validation\"\n",
    "\n",
    "    # Extracting metrics from model fitting\n",
    "    train_loss = results.history['loss']\n",
    "    val_loss = results.history['val_loss']\n",
    "    train_accuracy = results.history['accuracy']\n",
    "    val_accuracy = results.history['val_accuracy']\n",
    "\n",
    "    # Setting up plots\n",
    "    fig, (ax1, ax2) = plt.subplots(1, 2, figsize=(10, 5))\n",
    "\n",
    "    # Plotting loss info\n",
    "    ax1.set_title(\"Loss\")\n",
    "    sns.lineplot(x=results.epoch, y=train_loss, ax=ax1, label=\"train\")\n",
    "    sns.lineplot(x=results.epoch, y=val_loss, ax=ax1, label=val_label)\n",
    "    ax1.legend()\n",
    "\n",
    "    # Plotting accuracy info\n",
    "    ax2.set_title(\"Accuracy\")\n",
    "    sns.lineplot(x=results.epoch, y=train_accuracy, ax=ax2, label=\"train\")\n",
    "    sns.lineplot(x=results.epoch, y=val_accuracy, ax=ax2, label=val_label)\n",
    "    ax2.legend()\n",
    "    \n",
    "plot_loss_and_accuracy(dense_model_results)"
   ]
  },
  {
   "cell_type": "markdown",
   "metadata": {
    "nbgrader": {
     "grade": false,
     "grade_id": "cell-3ee94fdb73f6a0bd",
     "locked": true,
     "schema_version": 3,
     "solution": false,
     "task": false
    }
   },
   "source": [
    "## 5) Modify the Code Below to Use Regularization\n",
    "\n",
    "\n",
    "The model appears to be overfitting. To deal with this overfitting, modify the code below to include regularization in the model. You can add L1, L2, both L1 and L2, or dropout regularization.\n",
    "\n",
    "Hint: these might be helpful\n",
    "\n",
    " - [`Dense` layer documentation](https://keras.io/api/layers/core_layers/dense/)\n",
    " - [`regularizers` documentation](https://keras.io/regularizers/)\n",
    " \n",
    "(`EarlyStopping` is a type of regularization that is not applicable to this problem framing, since it's a callback and not a layer.)"
   ]
  },
  {
   "cell_type": "code",
   "execution_count": 79,
   "metadata": {
    "ExecuteTime": {
     "end_time": "2020-11-04T16:48:46.721530Z",
     "start_time": "2020-11-04T16:48:46.715001Z"
    },
    "nbgrader": {
     "grade": false,
     "grade_id": "cell-143a65663b1d4c26",
     "locked": false,
     "schema_version": 3,
     "solution": true,
     "task": false
    }
   },
   "outputs": [
    {
     "name": "stdout",
     "output_type": "stream",
     "text": [
      "Model: \"regularized\"\n",
      "_________________________________________________________________\n",
      "Layer (type)                 Output Shape              Param #   \n",
      "=================================================================\n",
      "dense_17 (Dense)             (None, 64)                19264     \n",
      "=================================================================\n",
      "Total params: 19,264\n",
      "Trainable params: 19,264\n",
      "Non-trainable params: 0\n",
      "_________________________________________________________________\n"
     ]
    }
   ],
   "source": [
    "# Complete the following code\n",
    "\n",
    "def build_model_with_regularization(n_input, n_output, activation, loss):\n",
    "    \"\"\"\n",
    "    Creates and compiles a tf.keras Sequential model with two hidden layers\n",
    "    This time regularization has been added\n",
    "    \"\"\"\n",
    "    # create classifier\n",
    "    classifier = Sequential(name=\"regularized\")\n",
    "\n",
    "    # add input layer\n",
    "    classifier.add(Dense(units=64, input_shape=(n_input,)))\n",
    "\n",
    "    # add hidden layers\n",
    "    tf.keras.layers.Dense(units=64,\n",
    "    kernel_regularizer= regularizers.L1L2(l1=1e-5, l2=1e-4),\n",
    "    bias_regularizer= regularizers.L2(1e-4),\n",
    "    activity_regularizer= regularizers.L2(1e-5))\n",
    "\n",
    "    # add output layer\n",
    "    tf.keras.layers.Dense(units=1,activation = 'sigmoid')\n",
    "    \n",
    "    classifier.compile(optimizer='adam', loss=loss, metrics=['accuracy'])\n",
    "    return classifier\n",
    "\n",
    "model_with_regularization = build_model_with_regularization(\n",
    "    num_input_nodes, num_output_nodes, activation_function, loss\n",
    ")\n",
    "model_with_regularization.summary()"
   ]
  },
  {
   "cell_type": "code",
   "execution_count": 80,
   "metadata": {
    "ExecuteTime": {
     "end_time": "2020-11-04T16:48:47.310049Z",
     "start_time": "2020-11-04T16:48:47.265185Z"
    },
    "code_folding": [],
    "nbgrader": {
     "grade": true,
     "grade_id": "cell-45429cad9bc0ca12",
     "locked": true,
     "points": 1,
     "schema_version": 3,
     "solution": false,
     "task": false
    }
   },
   "outputs": [
    {
     "data": {
      "text/plain": [
       "0.3"
      ]
     },
     "execution_count": 80,
     "metadata": {},
     "output_type": "execute_result"
    }
   ],
   "source": [
    "# Run the code below without change\n",
    "\n",
    "# Testing function to build model\n",
    "assert type(model_with_regularization) == Sequential\n",
    "\n",
    "def check_regularization(model):\n",
    "    regularization_count = 0\n",
    "    for layer in model.get_config()['layers']:\n",
    "        \n",
    "        # Checking if kernel regularizer was specified\n",
    "        if 'kernel_regularizer' in layer['config']:\n",
    "            if layer['config'].get('kernel_regularizer'):\n",
    "                regularization_count += 1\n",
    "                \n",
    "        # Checking if layer is dropout layer\n",
    "        if layer[\"class_name\"] == \"Dropout\":\n",
    "            regularization_count += 1\n",
    "            \n",
    "    return regularization_count > 0\n",
    "    \n",
    "score = .3\n",
    "\n",
    "if check_regularization(model_with_regularization):\n",
    "    score += .7\n",
    "    \n",
    "score"
   ]
  },
  {
   "cell_type": "markdown",
   "metadata": {
    "nbgrader": {
     "grade": false,
     "grade_id": "cell-b13c2342c3515ca5",
     "locked": true,
     "schema_version": 3,
     "solution": false,
     "task": false
    }
   },
   "source": [
    "Now we'll evaluate the new model on the training set as well:"
   ]
  },
  {
   "cell_type": "code",
   "execution_count": 81,
   "metadata": {
    "nbgrader": {
     "grade": false,
     "grade_id": "cell-87e75ce032ca5468",
     "locked": true,
     "schema_version": 3,
     "solution": false,
     "task": false
    }
   },
   "outputs": [
    {
     "data": {
      "image/png": "[encoded data removed]",
      "text/plain": [
       "<Figure size 720x360 with 2 Axes>"
      ]
     },
     "metadata": {
      "needs_background": "light"
     },
     "output_type": "display_data"
    }
   ],
   "source": [
    "# Run this cell without changes\n",
    "\n",
    "# Fit the model to the training data, using a subset of the\n",
    "# training data as validation data\n",
    "reg_model_results = model_with_regularization.fit(\n",
    "    x=X_train,\n",
    "    y=y_train,\n",
    "    batch_size=None,\n",
    "    epochs=20,\n",
    "    verbose=0,\n",
    "    validation_split=0.4,\n",
    "    shuffle=False\n",
    ")\n",
    "\n",
    "plot_loss_and_accuracy(reg_model_results)"
   ]
  },
  {
   "cell_type": "markdown",
   "metadata": {
    "nbgrader": {
     "grade": false,
     "grade_id": "cell-cdcc2db42e9c92a2",
     "locked": true,
     "schema_version": 3,
     "solution": false,
     "task": false
    }
   },
   "source": [
    "(Whether or not your regularization made a difference will partially depend on how strong of regularization you applied, as well as some random elements of your current TensorFlow configuration.)\n",
    "\n",
    "Now we evaluate both models on the holdout set:"
   ]
  },
  {
   "cell_type": "code",
   "execution_count": 82,
   "metadata": {},
   "outputs": [
    {
     "data": {
      "image/png": "[encoded data removed]",
      "text/plain": [
       "<Figure size 720x360 with 2 Axes>"
      ]
     },
     "metadata": {
      "needs_background": "light"
     },
     "output_type": "display_data"
    }
   ],
   "source": [
    "# Run this cell without changes\n",
    "\n",
    "final_dense_model_results = dense_model.fit(\n",
    "    x=X_train,\n",
    "    y=y_train,\n",
    "    batch_size=None,\n",
    "    epochs=20,\n",
    "    verbose=0,\n",
    "    validation_data=(X_test, y_test),\n",
    "    shuffle=False\n",
    ")\n",
    "\n",
    "plot_loss_and_accuracy(final_dense_model_results, final=True)"
   ]
  },
  {
   "cell_type": "markdown",
   "metadata": {},
   "source": [
    "Plot the loss and accuracy your final regularized model."
   ]
  },
  {
   "cell_type": "code",
   "execution_count": null,
   "metadata": {},
   "outputs": [],
   "source": [
    "# Replace None, as necessary\n",
    "\n",
    "final_reg_model_results = model_with_regularization.fit(\n",
    "    x=None,\n",
    "    y=None,\n",
    "    batch_size=None,\n",
    "    epochs=None,\n",
    "    verbose=None,\n",
    "    validation_data=(None, None),\n",
    "    shuffle=None\n",
    ")\n",
    "\n",
    "plot_loss_and_accuracy(final_reg_model_results, final=True)"
   ]
  }
 ],
 "metadata": {
  "celltoolbar": "Create Assignment",
  "kernelspec": {
   "display_name": "Python 3",
   "language": "python",
   "name": "python3"
  },
  "language_info": {
   "codemirror_mode": {
    "name": "ipython",
    "version": 3
   },
   "file_extension": ".py",
   "mimetype": "text/x-python",
   "name": "python",
   "nbconvert_exporter": "python",
   "pygments_lexer": "ipython3",
   "version": "3.8.5"
  },
  "toc": {
   "base_numbering": 1,
   "nav_menu": {},
   "number_sections": false,
   "sideBar": true,
   "skip_h1_title": true,
   "title_cell": "Table of Contents",
   "title_sidebar": "Contents",
   "toc_cell": false,
   "toc_position": {},
   "toc_section_display": true,
   "toc_window_display": false
  },
  "varInspector": {
   "cols": {
    "lenName": 16,
    "lenType": 16,
    "lenVar": 40
   },
   "kernels_config": {
    "python": {
     "delete_cmd_postfix": "",
     "delete_cmd_prefix": "del ",
     "library": "var_list.py",
     "varRefreshCmd": "print(var_dic_list())"
    },
    "r": {
     "delete_cmd_postfix": ") ",
     "delete_cmd_prefix": "rm(",
     "library": "var_list.r",
     "varRefreshCmd": "cat(var_dic_list()) "
    }
   },
   "types_to_exclude": [
    "module",
    "function",
    "builtin_function_or_method",
    "instance",
    "_Feature"
   ],
   "window_display": false
  }
 },
 "nbformat": 4,
 "nbformat_minor": 4
}
